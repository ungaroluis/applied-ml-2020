{
  "nbformat": 4,
  "nbformat_minor": 0,
  "metadata": {
    "colab": {
      "name": "HW5.ipynb",
      "provenance": [],
      "collapsed_sections": [],
      "authorship_tag": "ABX9TyP4VEqmP1DlARU+9IQre6eU"
    },
    "kernelspec": {
      "name": "python3",
      "display_name": "Python 3"
    },
    "language_info": {
      "name": "python"
    },
    "accelerator": "GPU"
  },
  "cells": [
    {
      "cell_type": "code",
      "metadata": {
        "id": "1xg1UaDX3A28"
      },
      "source": [
        "import numpy as np\n",
        "import pandas as pd\n",
        "import matplotlib.pyplot as plt\n",
        "\n",
        "from sklearn import datasets, model_selection\n",
        "\n",
        "from tensorflow import keras\n",
        "from tensorflow.keras import layers\n",
        "\n",
        "from keras.wrappers.scikit_learn import KerasClassifier"
      ],
      "execution_count": 1,
      "outputs": []
    },
    {
      "cell_type": "code",
      "metadata": {
        "colab": {
          "base_uri": "https://localhost:8080/",
          "height": 282
        },
        "id": "L3pMK8D94Bac",
        "outputId": "c2aa04fa-ac43-4468-dfbf-141c4fa30300"
      },
      "source": [
        "# Load dataset\n",
        "digits = datasets.load_digits()\n",
        "\n",
        "print('Example image of', digits.target[0], 'digit')\n",
        "plt.imshow(digits.images[0], cmap='gray_r')\n",
        "\n",
        "plt.show()"
      ],
      "execution_count": 2,
      "outputs": [
        {
          "output_type": "stream",
          "text": [
            "Example image of 0 digit\n"
          ],
          "name": "stdout"
        },
        {
          "output_type": "display_data",
          "data": {
            "image/png": "[encoded data removed]",
            "text/plain": [
              "<Figure size 432x288 with 1 Axes>"
            ]
          },
          "metadata": {
            "tags": [],
            "needs_background": "light"
          }
        }
      ]
    },
    {
      "cell_type": "code",
      "metadata": {
        "id": "R1axrIoXA7mM"
      },
      "source": [
        "# Prepare the data and the splitter\n",
        "n_classes = len(digits.target_names)\n",
        "n_features = digits.data.shape[1:]\n",
        "\n",
        "X = digits.data/digits.data.max()\n",
        "y = digits.target\n",
        "\n",
        "X_trainval, X_test, y_trainval, y_test = (model_selection.\n",
        "                                          train_test_split(X, y, stratify=y,\n",
        "                                                            random_state=0))\n",
        "\n",
        "y_trainval = keras.utils.to_categorical(y_trainval, num_classes=n_classes)\n",
        "y_test = keras.utils.to_categorical(y_test, num_classes=n_classes)\n",
        "\n",
        "splitter = model_selection.StratifiedShuffleSplit(1, random_state=0)"
      ],
      "execution_count": 3,
      "outputs": []
    },
    {
      "cell_type": "code",
      "metadata": {
        "id": "yb6TtPQEASgQ"
      },
      "source": [
        "# Define sklearn classifier\n",
        "def make_model(hidden_units1, hidden_units2, l2_strength):\n",
        "    model = keras.Sequential(\n",
        "        [\n",
        "        layers.InputLayer(input_shape=n_features),\n",
        "        layers.Dense(hidden_units1, activation='relu', \n",
        "                     kernel_regularizer=keras.regularizers.l2(l2_strength)),\n",
        "        layers.Dense(hidden_units2, activation='relu',\n",
        "                     kernel_regularizer=keras.regularizers.l2(l2_strength)),\n",
        "        layers.Dense(n_classes, activation='softmax',\n",
        "                     kernel_regularizer=keras.regularizers.l2(l2_strength))\n",
        "        ]\n",
        "    )\n",
        "\n",
        "    model.compile(optimizer='adam', loss=\"categorical_crossentropy\",\n",
        "                  metrics=['accuracy'])\n",
        "    \n",
        "    return model\n",
        "\n",
        "\n",
        "class SilentKerasClassifier(KerasClassifier):\n",
        "\n",
        "    def fit(self, X, y):\n",
        "      return super().fit(X, y , verbose=0)\n",
        "\n",
        "    def score(self, X, y):\n",
        "      return super().score(X, y, verbose=0)\n",
        "\n",
        "\n",
        "model = SilentKerasClassifier(make_model)"
      ],
      "execution_count": 4,
      "outputs": []
    },
    {
      "cell_type": "code",
      "metadata": {
        "colab": {
          "base_uri": "https://localhost:8080/",
          "height": 484
        },
        "id": "ukggLsO7BgSW",
        "outputId": "ee88c2bc-80c0-4021-b2f4-3f7ef5611b2c"
      },
      "source": [
        "# Grid search\n",
        "param_grid = {\n",
        "    'hidden_units1': (n_features * np.logspace(0, 8, num=5, base=2)).tolist(),\n",
        "    'hidden_units2': (n_features * np.logspace(-1, 7, num=5, base=2)).tolist(),\n",
        "    'l2_strength': np.logspace(-10, 0, num=5).tolist()\n",
        "}\n",
        "\n",
        "display(pd.DataFrame.from_dict(param_grid, orient='index').add_prefix('value '))\n",
        "\n",
        "grid = model_selection.GridSearchCV(model, param_grid=param_grid, cv=splitter,\n",
        "                                    return_train_score=True)\n",
        "grid.fit(X_trainval, y_trainval)\n",
        "\n",
        "res = pd.DataFrame(grid.cv_results_)[['param_hidden_units1', \n",
        "                                      'param_hidden_units2',\n",
        "                                      'param_l2_strength',\n",
        "                                      'mean_train_score',\n",
        "                                      'mean_test_score']]\n",
        "\n",
        "res.sort_values(by=['mean_test_score', 'mean_train_score'], ascending=False, \n",
        "                inplace=True)\n",
        "\n",
        "res[:10]"
      ],
      "execution_count": 5,
      "outputs": [
        {
          "output_type": "display_data",
          "data": {
            "text/html": [
              "<div>\n",
              "<style scoped>\n",
              "    .dataframe tbody tr th:only-of-type {\n",
              "        vertical-align: middle;\n",
              "    }\n",
              "\n",
              "    .dataframe tbody tr th {\n",
              "        vertical-align: top;\n",
              "    }\n",
              "\n",
              "    .dataframe thead th {\n",
              "        text-align: right;\n",
              "    }\n",
              "</style>\n",
              "<table border=\"1\" class=\"dataframe\">\n",
              "  <thead>\n",
              "    <tr style=\"text-align: right;\">\n",
              "      <th></th>\n",
              "      <th>value 0</th>\n",
              "      <th>value 1</th>\n",
              "      <th>value 2</th>\n",
              "      <th>value 3</th>\n",
              "      <th>value 4</th>\n",
              "    </tr>\n",
              "  </thead>\n",
              "  <tbody>\n",
              "    <tr>\n",
              "      <th>hidden_units1</th>\n",
              "      <td>6.400000e+01</td>\n",
              "      <td>2.560000e+02</td>\n",
              "      <td>1024.00000</td>\n",
              "      <td>4096.000000</td>\n",
              "      <td>16384.0</td>\n",
              "    </tr>\n",
              "    <tr>\n",
              "      <th>hidden_units2</th>\n",
              "      <td>3.200000e+01</td>\n",
              "      <td>1.280000e+02</td>\n",
              "      <td>512.00000</td>\n",
              "      <td>2048.000000</td>\n",
              "      <td>8192.0</td>\n",
              "    </tr>\n",
              "    <tr>\n",
              "      <th>l2_strength</th>\n",
              "      <td>1.000000e-10</td>\n",
              "      <td>3.162278e-08</td>\n",
              "      <td>0.00001</td>\n",
              "      <td>0.003162</td>\n",
              "      <td>1.0</td>\n",
              "    </tr>\n",
              "  </tbody>\n",
              "</table>\n",
              "</div>"
            ],
            "text/plain": [
              "                    value 0       value 1     value 2      value 3  value 4\n",
              "hidden_units1  6.400000e+01  2.560000e+02  1024.00000  4096.000000  16384.0\n",
              "hidden_units2  3.200000e+01  1.280000e+02   512.00000  2048.000000   8192.0\n",
              "l2_strength    1.000000e-10  3.162278e-08     0.00001     0.003162      1.0"
            ]
          },
          "metadata": {
            "tags": []
          }
        },
        {
          "output_type": "execute_result",
          "data": {
            "text/html": [
              "<div>\n",
              "<style scoped>\n",
              "    .dataframe tbody tr th:only-of-type {\n",
              "        vertical-align: middle;\n",
              "    }\n",
              "\n",
              "    .dataframe tbody tr th {\n",
              "        vertical-align: top;\n",
              "    }\n",
              "\n",
              "    .dataframe thead th {\n",
              "        text-align: right;\n",
              "    }\n",
              "</style>\n",
              "<table border=\"1\" class=\"dataframe\">\n",
              "  <thead>\n",
              "    <tr style=\"text-align: right;\">\n",
              "      <th></th>\n",
              "      <th>param_hidden_units1</th>\n",
              "      <th>param_hidden_units2</th>\n",
              "      <th>param_l2_strength</th>\n",
              "      <th>mean_train_score</th>\n",
              "      <th>mean_test_score</th>\n",
              "    </tr>\n",
              "  </thead>\n",
              "  <tbody>\n",
              "    <tr>\n",
              "      <th>90</th>\n",
              "      <td>4096</td>\n",
              "      <td>2048</td>\n",
              "      <td>1e-10</td>\n",
              "      <td>0.971947</td>\n",
              "      <td>0.985185</td>\n",
              "    </tr>\n",
              "    <tr>\n",
              "      <th>97</th>\n",
              "      <td>4096</td>\n",
              "      <td>8192</td>\n",
              "      <td>1e-05</td>\n",
              "      <td>0.972772</td>\n",
              "      <td>0.970370</td>\n",
              "    </tr>\n",
              "    <tr>\n",
              "      <th>70</th>\n",
              "      <td>1024</td>\n",
              "      <td>8192</td>\n",
              "      <td>1e-10</td>\n",
              "      <td>0.962871</td>\n",
              "      <td>0.970370</td>\n",
              "    </tr>\n",
              "    <tr>\n",
              "      <th>88</th>\n",
              "      <td>4096</td>\n",
              "      <td>512</td>\n",
              "      <td>0.00316228</td>\n",
              "      <td>0.945545</td>\n",
              "      <td>0.970370</td>\n",
              "    </tr>\n",
              "    <tr>\n",
              "      <th>118</th>\n",
              "      <td>16384</td>\n",
              "      <td>2048</td>\n",
              "      <td>0.00316228</td>\n",
              "      <td>0.933993</td>\n",
              "      <td>0.970370</td>\n",
              "    </tr>\n",
              "    <tr>\n",
              "      <th>96</th>\n",
              "      <td>4096</td>\n",
              "      <td>8192</td>\n",
              "      <td>3.16228e-08</td>\n",
              "      <td>0.967822</td>\n",
              "      <td>0.962963</td>\n",
              "    </tr>\n",
              "    <tr>\n",
              "      <th>120</th>\n",
              "      <td>16384</td>\n",
              "      <td>8192</td>\n",
              "      <td>1e-10</td>\n",
              "      <td>0.952145</td>\n",
              "      <td>0.962963</td>\n",
              "    </tr>\n",
              "    <tr>\n",
              "      <th>73</th>\n",
              "      <td>1024</td>\n",
              "      <td>8192</td>\n",
              "      <td>0.00316228</td>\n",
              "      <td>0.947195</td>\n",
              "      <td>0.962963</td>\n",
              "    </tr>\n",
              "    <tr>\n",
              "      <th>67</th>\n",
              "      <td>1024</td>\n",
              "      <td>2048</td>\n",
              "      <td>1e-05</td>\n",
              "      <td>0.943894</td>\n",
              "      <td>0.962963</td>\n",
              "    </tr>\n",
              "    <tr>\n",
              "      <th>85</th>\n",
              "      <td>4096</td>\n",
              "      <td>512</td>\n",
              "      <td>1e-10</td>\n",
              "      <td>0.938944</td>\n",
              "      <td>0.962963</td>\n",
              "    </tr>\n",
              "  </tbody>\n",
              "</table>\n",
              "</div>"
            ],
            "text/plain": [
              "    param_hidden_units1 param_hidden_units2  ... mean_train_score  mean_test_score\n",
              "90                 4096                2048  ...         0.971947         0.985185\n",
              "97                 4096                8192  ...         0.972772         0.970370\n",
              "70                 1024                8192  ...         0.962871         0.970370\n",
              "88                 4096                 512  ...         0.945545         0.970370\n",
              "118               16384                2048  ...         0.933993         0.970370\n",
              "96                 4096                8192  ...         0.967822         0.962963\n",
              "120               16384                8192  ...         0.952145         0.962963\n",
              "73                 1024                8192  ...         0.947195         0.962963\n",
              "67                 1024                2048  ...         0.943894         0.962963\n",
              "85                 4096                 512  ...         0.938944         0.962963\n",
              "\n",
              "[10 rows x 5 columns]"
            ]
          },
          "metadata": {
            "tags": []
          },
          "execution_count": 5
        }
      ]
    },
    {
      "cell_type": "code",
      "metadata": {
        "colab": {
          "base_uri": "https://localhost:8080/"
        },
        "id": "ARw2nsYXhfou",
        "outputId": "e9e671c2-9f16-4332-cad1-dbd96ba790e6"
      },
      "source": [
        "# Evaluate performance on the test set\n",
        "print(grid.score(X_test, y_test))"
      ],
      "execution_count": 6,
      "outputs": [
        {
          "output_type": "stream",
          "text": [
            "0.9377777576446533\n"
          ],
          "name": "stdout"
        }
      ]
    }
  ]
}