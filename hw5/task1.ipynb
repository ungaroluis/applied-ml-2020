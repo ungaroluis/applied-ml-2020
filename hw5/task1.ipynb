{
  "nbformat": 4,
  "nbformat_minor": 0,
  "metadata": {
    "colab": {
      "name": "task1.ipynb",
      "provenance": [],
      "collapsed_sections": []
    },
    "kernelspec": {
      "name": "python3",
      "display_name": "Python 3"
    },
    "language_info": {
      "name": "python"
    },
    "accelerator": "GPU"
  },
  "cells": [
    {
      "cell_type": "code",
      "metadata": {
        "id": "1xg1UaDX3A28"
      },
      "source": [
        "import numpy as np\n",
        "import scipy as sp\n",
        "import pandas as pd\n",
        "import matplotlib.pyplot as plt\n",
        "\n",
        "from sklearn import datasets, model_selection\n",
        "\n",
        "from tensorflow import keras\n",
        "from tensorflow.keras import layers\n",
        "\n",
        "from keras.wrappers.scikit_learn import KerasClassifier\n",
        "\n",
        "import time"
      ],
      "execution_count": null,
      "outputs": []
    },
    {
      "cell_type": "code",
      "metadata": {
        "colab": {
          "base_uri": "https://localhost:8080/",
          "height": 303
        },
        "id": "L3pMK8D94Bac",
        "outputId": "be9a3299-c51e-41a1-c74d-b79e3cc05bf2"
      },
      "source": [
        "# Load dataset\n",
        "digits = datasets.load_digits()\n",
        "\n",
        "fig, axes = plt.subplots(2, 5, constrained_layout=True)\n",
        "\n",
        "fig.suptitle('Example images')\n",
        "\n",
        "for ax, im, tar in zip(axes.flatten(), digits.images, digits.target):\n",
        "    ax.imshow(im, cmap='gray_r')\n",
        "\n",
        "    ax.set_xlabel(tar)\n",
        "    ax.set_xticks([])\n",
        "    ax.set_yticks([])\n",
        "\n",
        "plt.show()"
      ],
      "execution_count": null,
      "outputs": [
        {
          "output_type": "display_data",
          "data": {
            "image/png": "[encoded data removed]",
            "text/plain": [
              "<Figure size 432x288 with 10 Axes>"
            ]
          },
          "metadata": {
            "tags": []
          }
        }
      ]
    },
    {
      "cell_type": "code",
      "metadata": {
        "id": "R1axrIoXA7mM"
      },
      "source": [
        "# Preprocess and split the data\n",
        "n_classes = len(digits.target_names)\n",
        "n_features = np.prod(digits.data.shape[1:])\n",
        "\n",
        "X = digits.data/digits.data.max()\n",
        "y = digits.target\n",
        "\n",
        "X_trainval, X_test, y_trainval, y_test = (model_selection.\n",
        "                                          train_test_split(X, y, stratify=y,\n",
        "                                                            random_state=0))"
      ],
      "execution_count": null,
      "outputs": []
    },
    {
      "cell_type": "code",
      "metadata": {
        "id": "yb6TtPQEASgQ",
        "colab": {
          "base_uri": "https://localhost:8080/"
        },
        "outputId": "f444ddd2-1830-492f-a4c8-a67b60238edb"
      },
      "source": [
        "# Define sklearn classifier\n",
        "def make_model(hidden_units1, hidden_units2, l2_strength):\n",
        "    model = keras.Sequential([\n",
        "        layers.InputLayer(input_shape=(n_features,)),\n",
        "        layers.Dense(hidden_units1, activation='relu', \n",
        "                     kernel_regularizer=keras.regularizers.l2(l2_strength)),\n",
        "        layers.Dense(hidden_units2, activation='relu',\n",
        "                     kernel_regularizer=keras.regularizers.l2(l2_strength)),\n",
        "        layers.Dense(n_classes, activation='softmax',\n",
        "                     kernel_regularizer=keras.regularizers.l2(l2_strength))\n",
        "    ])\n",
        "\n",
        "    model.compile(optimizer='adam', loss=\"categorical_crossentropy\",\n",
        "                  metrics=['accuracy'])\n",
        "    \n",
        "    return model\n",
        "\n",
        "\n",
        "# Override KerasClassifier so as to control the epochs and the verbosity level\n",
        "class SilentKerasClassifier(KerasClassifier):\n",
        "\n",
        "    def fit(self, X, y):\n",
        "      return super().fit(X, y, epochs=10, verbose=0)\n",
        "\n",
        "    def score(self, X, y):\n",
        "      return super().score(X, y, verbose=0)\n",
        "\n",
        "\n",
        "model = SilentKerasClassifier(make_model)\n",
        "\n",
        "# Sanity check the model architecture\n",
        "make_model(64, 32, 0.01).summary()"
      ],
      "execution_count": null,
      "outputs": [
        {
          "output_type": "stream",
          "text": [
            "Model: \"sequential\"\n",
            "_________________________________________________________________\n",
            "Layer (type)                 Output Shape              Param #   \n",
            "=================================================================\n",
            "dense (Dense)                (None, 64)                4160      \n",
            "_________________________________________________________________\n",
            "dense_1 (Dense)              (None, 32)                2080      \n",
            "_________________________________________________________________\n",
            "dense_2 (Dense)              (None, 10)                330       \n",
            "=================================================================\n",
            "Total params: 6,570\n",
            "Trainable params: 6,570\n",
            "Non-trainable params: 0\n",
            "_________________________________________________________________\n"
          ],
          "name": "stdout"
        }
      ]
    },
    {
      "cell_type": "code",
      "metadata": {
        "colab": {
          "base_uri": "https://localhost:8080/",
          "height": 359
        },
        "id": "ukggLsO7BgSW",
        "outputId": "9507b6e9-ccf2-470e-c17d-78cce56256ca"
      },
      "source": [
        "# Randomized hyperparameter search\n",
        "param_grid = {\n",
        "    'hidden_units1': (n_features * np.logspace(-2, 1, num=10, base=2))\n",
        "                        .astype(int).tolist(),\n",
        "    'hidden_units2': (n_features * np.logspace(-2, 1, num=10, base=2))\n",
        "                        .astype(int).tolist(),\n",
        "    'l2_strength': np.logspace(-12, 0, base=10, num=10).tolist()\n",
        "}\n",
        "\n",
        "splitter = model_selection.StratifiedShuffleSplit(1, random_state=0)\n",
        "\n",
        "grid = model_selection.RandomizedSearchCV(model,\n",
        "                                          param_distributions=param_grid,\n",
        "                                          cv=splitter,\n",
        "                                          n_iter=200,\n",
        "                                          return_train_score=True)\n",
        "grid.fit(X_trainval, y_trainval)\n",
        "\n",
        "res = pd.DataFrame(grid.cv_results_)[['param_hidden_units1', \n",
        "                                      'param_hidden_units2',\n",
        "                                      'param_l2_strength',\n",
        "                                      'mean_train_score',\n",
        "                                      'mean_test_score']]\n",
        "\n",
        "res.sort_values(by=['mean_test_score', 'mean_train_score'], ascending=False, \n",
        "                inplace=True)\n",
        "\n",
        "res[:10]"
      ],
      "execution_count": null,
      "outputs": [
        {
          "output_type": "execute_result",
          "data": {
            "text/html": [
              "<div>\n",
              "<style scoped>\n",
              "    .dataframe tbody tr th:only-of-type {\n",
              "        vertical-align: middle;\n",
              "    }\n",
              "\n",
              "    .dataframe tbody tr th {\n",
              "        vertical-align: top;\n",
              "    }\n",
              "\n",
              "    .dataframe thead th {\n",
              "        text-align: right;\n",
              "    }\n",
              "</style>\n",
              "<table border=\"1\" class=\"dataframe\">\n",
              "  <thead>\n",
              "    <tr style=\"text-align: right;\">\n",
              "      <th></th>\n",
              "      <th>param_hidden_units1</th>\n",
              "      <th>param_hidden_units2</th>\n",
              "      <th>param_l2_strength</th>\n",
              "      <th>mean_train_score</th>\n",
              "      <th>mean_test_score</th>\n",
              "    </tr>\n",
              "  </thead>\n",
              "  <tbody>\n",
              "    <tr>\n",
              "      <th>29</th>\n",
              "      <td>64</td>\n",
              "      <td>128</td>\n",
              "      <td>2.15443e-11</td>\n",
              "      <td>0.985974</td>\n",
              "      <td>0.985185</td>\n",
              "    </tr>\n",
              "    <tr>\n",
              "      <th>179</th>\n",
              "      <td>50</td>\n",
              "      <td>128</td>\n",
              "      <td>1e-12</td>\n",
              "      <td>0.981023</td>\n",
              "      <td>0.985185</td>\n",
              "    </tr>\n",
              "    <tr>\n",
              "      <th>25</th>\n",
              "      <td>128</td>\n",
              "      <td>128</td>\n",
              "      <td>2.15443e-07</td>\n",
              "      <td>0.984323</td>\n",
              "      <td>0.977778</td>\n",
              "    </tr>\n",
              "    <tr>\n",
              "      <th>189</th>\n",
              "      <td>128</td>\n",
              "      <td>80</td>\n",
              "      <td>0.00215443</td>\n",
              "      <td>0.973597</td>\n",
              "      <td>0.977778</td>\n",
              "    </tr>\n",
              "    <tr>\n",
              "      <th>82</th>\n",
              "      <td>32</td>\n",
              "      <td>128</td>\n",
              "      <td>2.15443e-11</td>\n",
              "      <td>0.971947</td>\n",
              "      <td>0.977778</td>\n",
              "    </tr>\n",
              "    <tr>\n",
              "      <th>181</th>\n",
              "      <td>101</td>\n",
              "      <td>128</td>\n",
              "      <td>4.64159e-06</td>\n",
              "      <td>0.989274</td>\n",
              "      <td>0.970370</td>\n",
              "    </tr>\n",
              "    <tr>\n",
              "      <th>144</th>\n",
              "      <td>128</td>\n",
              "      <td>80</td>\n",
              "      <td>0.0001</td>\n",
              "      <td>0.988449</td>\n",
              "      <td>0.970370</td>\n",
              "    </tr>\n",
              "    <tr>\n",
              "      <th>127</th>\n",
              "      <td>128</td>\n",
              "      <td>101</td>\n",
              "      <td>1e-12</td>\n",
              "      <td>0.987624</td>\n",
              "      <td>0.970370</td>\n",
              "    </tr>\n",
              "    <tr>\n",
              "      <th>16</th>\n",
              "      <td>101</td>\n",
              "      <td>64</td>\n",
              "      <td>2.15443e-07</td>\n",
              "      <td>0.986799</td>\n",
              "      <td>0.970370</td>\n",
              "    </tr>\n",
              "    <tr>\n",
              "      <th>70</th>\n",
              "      <td>80</td>\n",
              "      <td>128</td>\n",
              "      <td>2.15443e-07</td>\n",
              "      <td>0.985974</td>\n",
              "      <td>0.970370</td>\n",
              "    </tr>\n",
              "  </tbody>\n",
              "</table>\n",
              "</div>"
            ],
            "text/plain": [
              "    param_hidden_units1 param_hidden_units2  ... mean_train_score  mean_test_score\n",
              "29                   64                 128  ...         0.985974         0.985185\n",
              "179                  50                 128  ...         0.981023         0.985185\n",
              "25                  128                 128  ...         0.984323         0.977778\n",
              "189                 128                  80  ...         0.973597         0.977778\n",
              "82                   32                 128  ...         0.971947         0.977778\n",
              "181                 101                 128  ...         0.989274         0.970370\n",
              "144                 128                  80  ...         0.988449         0.970370\n",
              "127                 128                 101  ...         0.987624         0.970370\n",
              "16                  101                  64  ...         0.986799         0.970370\n",
              "70                   80                 128  ...         0.985974         0.970370\n",
              "\n",
              "[10 rows x 5 columns]"
            ]
          },
          "metadata": {
            "tags": []
          },
          "execution_count": 5
        }
      ]
    },
    {
      "cell_type": "code",
      "metadata": {
        "id": "ARw2nsYXhfou",
        "colab": {
          "base_uri": "https://localhost:8080/",
          "height": 329
        },
        "outputId": "e394fdad-f216-4ec1-e683-f97e3833d09d"
      },
      "source": [
        "# Evaluate performance on the test set\n",
        "print('Test score:', grid.score(X_test, y_test))\n",
        "\n",
        "fig, axes = plt.subplots(2, 5, constrained_layout=True)\n",
        "flat_ax = axes.flatten()\n",
        "\n",
        "fig.suptitle('Example test set predictions')\n",
        "\n",
        "im_size = int(np.sqrt(n_features))\n",
        "\n",
        "for ax, im, tar in zip(flat_ax, X_test, y_test):\n",
        "    ax.imshow(im.reshape(im_size, -1), cmap='gray_r')\n",
        "\n",
        "    ax.set_xlabel('True: {}\\nPred: {}'\n",
        "                    .format(tar, \n",
        "                            np.argmax(grid.predict_proba(\n",
        "                                np.expand_dims(im, axis=0))[0])))\n",
        "    \n",
        "    ax.set_xticks([])\n",
        "    ax.set_yticks([])\n",
        "\n",
        "plt.show()"
      ],
      "execution_count": null,
      "outputs": [
        {
          "output_type": "stream",
          "text": [
            "Test score: 0.9644444584846497\n"
          ],
          "name": "stdout"
        },
        {
          "output_type": "display_data",
          "data": {
            "image/png": "[encoded data removed]",
            "text/plain": [
              "<Figure size 432x288 with 10 Axes>"
            ]
          },
          "metadata": {
            "tags": []
          }
        }
      ]
    }
  ]
}