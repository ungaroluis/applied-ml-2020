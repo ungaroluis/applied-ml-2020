{
  "nbformat": 4,
  "nbformat_minor": 0,
  "metadata": {
    "colab": {
      "name": "task1.ipynb",
      "provenance": [],
      "collapsed_sections": []
    },
    "kernelspec": {
      "name": "python3",
      "display_name": "Python 3"
    },
    "language_info": {
      "name": "python"
    },
    "accelerator": "GPU"
  },
  "cells": [
    {
      "cell_type": "code",
      "metadata": {
        "id": "1xg1UaDX3A28"
      },
      "source": [
        "import numpy as np\n",
        "import scipy as sp\n",
        "import pandas as pd\n",
        "import matplotlib.pyplot as plt\n",
        "\n",
        "from sklearn import datasets, model_selection\n",
        "\n",
        "from tensorflow import keras\n",
        "from tensorflow.keras import layers\n",
        "\n",
        "from keras.wrappers.scikit_learn import KerasClassifier\n",
        "\n",
        "import time"
      ],
      "execution_count": 2,
      "outputs": []
    },
    {
      "cell_type": "code",
      "metadata": {
        "colab": {
          "base_uri": "https://localhost:8080/",
          "height": 303
        },
        "id": "L3pMK8D94Bac",
        "outputId": "0e9e6fad-edfe-4930-950e-cda1f953d06f"
      },
      "source": [
        "# Load dataset\n",
        "digits = datasets.load_digits()\n",
        "\n",
        "fig, axes = plt.subplots(2, 5, constrained_layout=True)\n",
        "\n",
        "fig.suptitle('Example images')\n",
        "\n",
        "for ax, im, tar in zip(axes.flatten(), digits.images, digits.target):\n",
        "    ax.imshow(im, cmap='gray_r')\n",
        "\n",
        "    ax.set_xlabel(tar)\n",
        "    ax.set_xticks([])\n",
        "    ax.set_yticks([])\n",
        "\n",
        "plt.show()"
      ],
      "execution_count": 3,
      "outputs": [
        {
          "output_type": "display_data",
          "data": {
            "image/png": "[encoded data removed]",
            "text/plain": [
              "<Figure size 432x288 with 10 Axes>"
            ]
          },
          "metadata": {
            "tags": []
          }
        }
      ]
    },
    {
      "cell_type": "code",
      "metadata": {
        "id": "R1axrIoXA7mM"
      },
      "source": [
        "# Preprocess and split the data\n",
        "n_classes = len(digits.target_names)\n",
        "n_features = np.prod(digits.data.shape[1:])\n",
        "\n",
        "X = digits.data/digits.data.max()\n",
        "y = digits.target\n",
        "\n",
        "X_trainval, X_test, y_trainval, y_test = (model_selection.\n",
        "                                          train_test_split(X, y, stratify=y,\n",
        "                                                            random_state=0))"
      ],
      "execution_count": 4,
      "outputs": []
    },
    {
      "cell_type": "code",
      "metadata": {
        "id": "yb6TtPQEASgQ",
        "colab": {
          "base_uri": "https://localhost:8080/"
        },
        "outputId": "7f2ad730-8ba2-46df-a4fa-08bc1124e042"
      },
      "source": [
        "# Define sklearn classifier\n",
        "def make_model(hidden_units1, hidden_units2, l2_strength):\n",
        "    model = keras.Sequential([\n",
        "        layers.InputLayer(input_shape=(n_features,)),\n",
        "        layers.Dense(hidden_units1, activation='relu', \n",
        "                     kernel_regularizer=keras.regularizers.l2(l2_strength)),\n",
        "        layers.Dense(hidden_units2, activation='relu',\n",
        "                     kernel_regularizer=keras.regularizers.l2(l2_strength)),\n",
        "        layers.Dense(n_classes, activation='softmax',\n",
        "                     kernel_regularizer=keras.regularizers.l2(l2_strength))\n",
        "    ])\n",
        "\n",
        "    model.compile(optimizer='adam', loss=\"categorical_crossentropy\",\n",
        "                  metrics=['accuracy'])\n",
        "    \n",
        "    return model\n",
        "\n",
        "\n",
        "# Override KerasClassifier so as to control the epochs and the verbosity level\n",
        "class SilentKerasClassifier(KerasClassifier):\n",
        "\n",
        "    def fit(self, X, y):\n",
        "      return super().fit(X, y, epochs=10, verbose=0)\n",
        "\n",
        "    def score(self, X, y):\n",
        "      return super().score(X, y, verbose=0)\n",
        "\n",
        "\n",
        "model = SilentKerasClassifier(make_model)\n",
        "\n",
        "# Sanity check the model architecture\n",
        "make_model(64, 32, 0.01).summary()"
      ],
      "execution_count": 5,
      "outputs": [
        {
          "output_type": "stream",
          "text": [
            "Model: \"sequential\"\n",
            "_________________________________________________________________\n",
            "Layer (type)                 Output Shape              Param #   \n",
            "=================================================================\n",
            "dense (Dense)                (None, 64)                4160      \n",
            "_________________________________________________________________\n",
            "dense_1 (Dense)              (None, 32)                2080      \n",
            "_________________________________________________________________\n",
            "dense_2 (Dense)              (None, 10)                330       \n",
            "=================================================================\n",
            "Total params: 6,570\n",
            "Trainable params: 6,570\n",
            "Non-trainable params: 0\n",
            "_________________________________________________________________\n"
          ],
          "name": "stdout"
        }
      ]
    },
    {
      "cell_type": "code",
      "metadata": {
        "colab": {
          "base_uri": "https://localhost:8080/",
          "height": 359
        },
        "id": "ukggLsO7BgSW",
        "outputId": "3a1b6ade-a544-45c3-c087-c4e5b3d3108c"
      },
      "source": [
        "# Randomized hyperparameter search\n",
        "param_grid = {\n",
        "    'hidden_units1': (n_features * np.logspace(-2, 1, num=10, base=2))\n",
        "                        .astype(int).tolist(),\n",
        "    'hidden_units2': (n_features * np.logspace(-2, 1, num=10, base=2))\n",
        "                        .astype(int).tolist(),\n",
        "    'l2_strength': np.logspace(-12, 0, base=10, num=10).tolist()\n",
        "}\n",
        "\n",
        "splitter = model_selection.StratifiedShuffleSplit(1, random_state=0)\n",
        "\n",
        "grid = model_selection.RandomizedSearchCV(model,\n",
        "                                          param_distributions=param_grid,\n",
        "                                          cv=splitter,\n",
        "                                          n_iter=200,\n",
        "                                          return_train_score=True)\n",
        "grid.fit(X_trainval, y_trainval)\n",
        "\n",
        "res = pd.DataFrame(grid.cv_results_)[['param_hidden_units1', \n",
        "                                      'param_hidden_units2',\n",
        "                                      'param_l2_strength',\n",
        "                                      'mean_train_score',\n",
        "                                      'mean_test_score']]\n",
        "\n",
        "res.sort_values(by=['mean_test_score', 'mean_train_score'], ascending=False, \n",
        "                inplace=True)\n",
        "\n",
        "res[:10]"
      ],
      "execution_count": 6,
      "outputs": [
        {
          "output_type": "execute_result",
          "data": {
            "text/html": [
              "<div>\n",
              "<style scoped>\n",
              "    .dataframe tbody tr th:only-of-type {\n",
              "        vertical-align: middle;\n",
              "    }\n",
              "\n",
              "    .dataframe tbody tr th {\n",
              "        vertical-align: top;\n",
              "    }\n",
              "\n",
              "    .dataframe thead th {\n",
              "        text-align: right;\n",
              "    }\n",
              "</style>\n",
              "<table border=\"1\" class=\"dataframe\">\n",
              "  <thead>\n",
              "    <tr style=\"text-align: right;\">\n",
              "      <th></th>\n",
              "      <th>param_hidden_units1</th>\n",
              "      <th>param_hidden_units2</th>\n",
              "      <th>param_l2_strength</th>\n",
              "      <th>mean_train_score</th>\n",
              "      <th>mean_test_score</th>\n",
              "    </tr>\n",
              "  </thead>\n",
              "  <tbody>\n",
              "    <tr>\n",
              "      <th>8</th>\n",
              "      <td>128</td>\n",
              "      <td>101</td>\n",
              "      <td>4.64159e-10</td>\n",
              "      <td>0.991749</td>\n",
              "      <td>0.977778</td>\n",
              "    </tr>\n",
              "    <tr>\n",
              "      <th>116</th>\n",
              "      <td>101</td>\n",
              "      <td>101</td>\n",
              "      <td>1e-08</td>\n",
              "      <td>0.988449</td>\n",
              "      <td>0.977778</td>\n",
              "    </tr>\n",
              "    <tr>\n",
              "      <th>63</th>\n",
              "      <td>80</td>\n",
              "      <td>128</td>\n",
              "      <td>1e-08</td>\n",
              "      <td>0.985148</td>\n",
              "      <td>0.977778</td>\n",
              "    </tr>\n",
              "    <tr>\n",
              "      <th>160</th>\n",
              "      <td>80</td>\n",
              "      <td>101</td>\n",
              "      <td>1e-12</td>\n",
              "      <td>0.981848</td>\n",
              "      <td>0.977778</td>\n",
              "    </tr>\n",
              "    <tr>\n",
              "      <th>38</th>\n",
              "      <td>50</td>\n",
              "      <td>101</td>\n",
              "      <td>1e-08</td>\n",
              "      <td>0.981023</td>\n",
              "      <td>0.977778</td>\n",
              "    </tr>\n",
              "    <tr>\n",
              "      <th>28</th>\n",
              "      <td>40</td>\n",
              "      <td>64</td>\n",
              "      <td>4.64159e-10</td>\n",
              "      <td>0.978548</td>\n",
              "      <td>0.977778</td>\n",
              "    </tr>\n",
              "    <tr>\n",
              "      <th>90</th>\n",
              "      <td>101</td>\n",
              "      <td>40</td>\n",
              "      <td>0.00215443</td>\n",
              "      <td>0.972772</td>\n",
              "      <td>0.977778</td>\n",
              "    </tr>\n",
              "    <tr>\n",
              "      <th>176</th>\n",
              "      <td>128</td>\n",
              "      <td>16</td>\n",
              "      <td>2.15443e-07</td>\n",
              "      <td>0.969472</td>\n",
              "      <td>0.977778</td>\n",
              "    </tr>\n",
              "    <tr>\n",
              "      <th>111</th>\n",
              "      <td>64</td>\n",
              "      <td>128</td>\n",
              "      <td>1e-08</td>\n",
              "      <td>0.988449</td>\n",
              "      <td>0.970370</td>\n",
              "    </tr>\n",
              "    <tr>\n",
              "      <th>140</th>\n",
              "      <td>128</td>\n",
              "      <td>128</td>\n",
              "      <td>1e-08</td>\n",
              "      <td>0.986799</td>\n",
              "      <td>0.970370</td>\n",
              "    </tr>\n",
              "  </tbody>\n",
              "</table>\n",
              "</div>"
            ],
            "text/plain": [
              "    param_hidden_units1 param_hidden_units2  ... mean_train_score  mean_test_score\n",
              "8                   128                 101  ...         0.991749         0.977778\n",
              "116                 101                 101  ...         0.988449         0.977778\n",
              "63                   80                 128  ...         0.985148         0.977778\n",
              "160                  80                 101  ...         0.981848         0.977778\n",
              "38                   50                 101  ...         0.981023         0.977778\n",
              "28                   40                  64  ...         0.978548         0.977778\n",
              "90                  101                  40  ...         0.972772         0.977778\n",
              "176                 128                  16  ...         0.969472         0.977778\n",
              "111                  64                 128  ...         0.988449         0.970370\n",
              "140                 128                 128  ...         0.986799         0.970370\n",
              "\n",
              "[10 rows x 5 columns]"
            ]
          },
          "metadata": {
            "tags": []
          },
          "execution_count": 6
        }
      ]
    },
    {
      "cell_type": "code",
      "metadata": {
        "id": "ARw2nsYXhfou",
        "colab": {
          "base_uri": "https://localhost:8080/",
          "height": 329
        },
        "outputId": "cb15543c-6665-4f23-d1be-476aa45c5243"
      },
      "source": [
        "# Evaluate performance on the test set\n",
        "print('Test accuracy:', grid.score(X_test, y_test))\n",
        "\n",
        "y_pred = np.argmax(grid.predict_proba(X_test), axis=1)\n",
        "errors = y_test != y_pred\n",
        "\n",
        "fig, axes = plt.subplots(2, 5, constrained_layout=True)\n",
        "\n",
        "fig.suptitle('Example test set predictions')\n",
        "\n",
        "im_size = int(np.sqrt(n_features))\n",
        "\n",
        "def plot_predictions(axes, X, true, pred):\n",
        "    for ax, im, y_t, y_p in zip(axes, X, true, pred):\n",
        "        ax.imshow(im.reshape(im_size, -1), cmap='gray_r')\n",
        "                \n",
        "        ax.set_xlabel('True: {}\\nPred: {}'.format(y_t, y_p))\n",
        "\n",
        "        ax.set_xticks([])\n",
        "        ax.set_yticks([])\n",
        "                      \n",
        "plot_predictions(axes[0], X_test[~errors], y_test[~errors], y_pred[~errors])\n",
        "plot_predictions(axes[1], X_test[errors], y_test[errors], y_pred[errors])\n",
        "\n",
        "plt.show()"
      ],
      "execution_count": 7,
      "outputs": [
        {
          "output_type": "stream",
          "text": [
            "Test accuracy: 0.9688888788223267\n"
          ],
          "name": "stdout"
        },
        {
          "output_type": "display_data",
          "data": {
            "image/png": "[encoded data removed]",
            "text/plain": [
              "<Figure size 432x288 with 10 Axes>"
            ]
          },
          "metadata": {
            "tags": []
          }
        }
      ]
    }
  ]
}